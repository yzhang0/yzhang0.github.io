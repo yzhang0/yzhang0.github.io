{
 "cells": [
  {
   "cell_type": "code",
   "execution_count": 3,
   "metadata": {},
   "outputs": [
    {
     "name": "stdout",
     "output_type": "stream",
     "text": [
      "Untitled.ipynb    la_1.jpg          rome_2.jpg        \u001b[31mupei_4.JPG\u001b[m\u001b[m\r\n",
      "algonquin_1.jpg   la_2.jpg          rome_3.jpg        us_1.jpg\r\n",
      "algonquin_2.jpg   la_3.jpg          sandiego_1.jpg    us_2.jpg\r\n",
      "\u001b[31mbeijing_1.JPG\u001b[m\u001b[m     la_4.jpg          sandiego_2.jpg    us_3.jpg\r\n",
      "\u001b[31mbeijing_2.JPG\u001b[m\u001b[m     la_5.jpg          sandiego_3.jpg    us_4.jpg\r\n",
      "\u001b[31mbeijing_3.JPG\u001b[m\u001b[m     missionpeak_1.jpg santacruz_1.jpg   us_5.jpg\r\n",
      "boston_1.jpg      \u001b[31mmontreal_1.JPG\u001b[m\u001b[m    seattle_1.jpg     us_6.jpg\r\n",
      "\u001b[31mboston_2.JPG\u001b[m\u001b[m      \u001b[31mmontreal_2.JPG\u001b[m\u001b[m    seattle_2.jpg     us_7.jpg\r\n",
      "boston_3.jpg      \u001b[31mmontreal_3.JPG\u001b[m\u001b[m    sf_1.jpg          us_8.jpg\r\n",
      "\u001b[31mboston_4.JPG\u001b[m\u001b[m      \u001b[31mmontreal_4.JPG\u001b[m\u001b[m    sf_2.jpg          venice_1.jpg\r\n",
      "bruce_1.jpg       \u001b[31mmontreal_5.jpg\u001b[m\u001b[m    sf_3.jpg          venice_2.jpg\r\n",
      "bruce_2.jpg       montreal_6.jpg    sf_4.jpg          venice_3.jpg\r\n",
      "bruce_3.jpg       montreal_7.jpg    sf_5.jpg          venice_5.jpg\r\n",
      "\u001b[31mcharlestown_1.JPG\u001b[m\u001b[m mountain_view.jpg sf_6.jpg          venice_6.jpg\r\n",
      "\u001b[31mcharlestown_2.JPG\u001b[m\u001b[m murano_1.jpg      sf_7.jpg          venice_7.jpg\r\n",
      "\u001b[31mcharlestown_3.JPG\u001b[m\u001b[m murano_2.jpg      sf_8.jpg          venice_8.jpg\r\n",
      "cinqueterre_1.jpg nf_1.jpg          sf_9.jpg          versailles_1.jpg\r\n",
      "cinqueterre_2.jpg nf_2.jpg          \u001b[31mshandong_1.JPG\u001b[m\u001b[m    victoria_1.JPG\r\n",
      "filenames.txt     nf_3.jpg          \u001b[31mshandong_2.JPG\u001b[m\u001b[m    \u001b[31mvictoria_2.JPG\u001b[m\u001b[m\r\n",
      "florence_1.jpg    ottawa_1.jpg      \u001b[31mshanghai_1.JPG\u001b[m\u001b[m    \u001b[31mvictoria_3.JPG\u001b[m\u001b[m\r\n",
      "florence_2.jpg    \u001b[31mottawa_2.JPG\u001b[m\u001b[m      \u001b[31mshanghai_2.JPG\u001b[m\u001b[m    victoria_4.JPG\r\n",
      "florence_3.jpg    \u001b[31mottawa_3.JPG\u001b[m\u001b[m      \u001b[31mshanghai_3.JPG\u001b[m\u001b[m    \u001b[31mvictoria_5.JPG\u001b[m\u001b[m\r\n",
      "florence_4.jpg    \u001b[31mottawa_4.JPG\u001b[m\u001b[m      \u001b[31mshanghai_4.JPG\u001b[m\u001b[m    waterloo.jpg\r\n",
      "florence_5.jpg    paris_1.jpg       \u001b[31msuzhou_1.JPG\u001b[m\u001b[m      waterloo_1.jpg\r\n",
      "h1_1.jpg          paris_2.jpg       \u001b[31msuzhou_2.JPG\u001b[m\u001b[m      waterloo_2.jpg\r\n",
      "h1_2.jpg          paris_3.jpg       \u001b[31msuzhou_3.JPG\u001b[m\u001b[m      waterloo_3.jpg\r\n",
      "h1_3.jpg          paris_4.jpg       tahoe_1.jpg       waterloo_4.jpg\r\n",
      "h1_4.jpg          \u001b[31mpeggys_cove_1.JPG\u001b[m\u001b[m \u001b[31mtoronto_1.JPG\u001b[m\u001b[m     \u001b[31mwuxi.JPG\u001b[m\u001b[m\r\n",
      "houston_1.jpg     \u001b[31mpeggys_cove_2.JPG\u001b[m\u001b[m \u001b[31mtoronto_2.JPG\u001b[m\u001b[m     \u001b[31myosemite_1.jpg\u001b[m\u001b[m\r\n",
      "hp_1.jpg          plaisance_1.jpg   toronto_3.jpg     \u001b[31myosemite_2.jpg\u001b[m\u001b[m\r\n",
      "hp_2.jpg          plaisance_2.jpg   \u001b[31mupei_1.JPG\u001b[m\u001b[m        \u001b[31myosemite_3.jpg\u001b[m\u001b[m\r\n",
      "hp_3.jpg          \u001b[31mquebec_1.JPG\u001b[m\u001b[m      \u001b[31mupei_2.JPG\u001b[m\u001b[m        \u001b[31myosemite_4.jpg\u001b[m\u001b[m\r\n",
      "\u001b[31mhuangshan_6.JPG\u001b[m\u001b[m   rome_1.jpg        \u001b[31mupei_3.JPG\u001b[m\u001b[m        yosemite_5.jpg\r\n"
     ]
    }
   ],
   "source": [
    "!ls"
   ]
  },
  {
   "cell_type": "code",
   "execution_count": 4,
   "metadata": {},
   "outputs": [],
   "source": [
    "s = \"\"\"\n",
    "Untitled.ipynb    la_1.jpg          rome_2.jpg        upei_4.JPG\n",
    "algonquin_1.jpg   la_2.jpg          rome_3.jpg        us_1.jpg\n",
    "algonquin_2.jpg   la_3.jpg          sandiego_1.jpg    us_2.jpg\n",
    "beijing_1.JPG     la_4.jpg          sandiego_2.jpg    us_3.jpg\n",
    "beijing_2.JPG     la_5.jpg          sandiego_3.jpg    us_4.jpg\n",
    "beijing_3.JPG     missionpeak_1.jpg santacruz_1.jpg   us_5.jpg\n",
    "boston_1.jpg      montreal_1.JPG    seattle_1.jpg     us_6.jpg\n",
    "boston_2.JPG      montreal_2.JPG    seattle_2.jpg     us_7.jpg\n",
    "boston_3.jpg      montreal_3.JPG    sf_1.jpg          us_8.jpg\n",
    "boston_4.JPG      montreal_4.JPG    sf_2.jpg          venice_1.jpg\n",
    "bruce_1.jpg       montreal_5.jpg    sf_3.jpg          venice_2.jpg\n",
    "bruce_2.jpg       montreal_6.jpg    sf_4.jpg          venice_3.jpg\n",
    "bruce_3.jpg       montreal_7.jpg    sf_5.jpg          venice_5.jpg\n",
    "charlestown_1.JPG mountain_view.jpg sf_6.jpg          venice_6.jpg\n",
    "charlestown_2.JPG murano_1.jpg      sf_7.jpg          venice_7.jpg\n",
    "charlestown_3.JPG murano_2.jpg      sf_8.jpg          venice_8.jpg\n",
    "cinqueterre_1.jpg nf_1.jpg          sf_9.jpg          versailles_1.jpg\n",
    "cinqueterre_2.jpg nf_2.jpg          shandong_1.JPG    victoria_1.JPG\n",
    "filenames.txt     nf_3.jpg          shandong_2.JPG    victoria_2.JPG\n",
    "florence_1.jpg    ottawa_1.jpg      shanghai_1.JPG    victoria_3.JPG\n",
    "florence_2.jpg    ottawa_2.JPG      shanghai_2.JPG    victoria_4.JPG\n",
    "florence_3.jpg    ottawa_3.JPG      shanghai_3.JPG    victoria_5.JPG\n",
    "florence_4.jpg    ottawa_4.JPG      shanghai_4.JPG    waterloo.jpg\n",
    "florence_5.jpg    paris_1.jpg       suzhou_1.JPG      waterloo_1.jpg\n",
    "h1_1.jpg          paris_2.jpg       suzhou_2.JPG      waterloo_2.jpg\n",
    "h1_2.jpg          paris_3.jpg       suzhou_3.JPG      waterloo_3.jpg\n",
    "h1_3.jpg          paris_4.jpg       tahoe_1.jpg       waterloo_4.jpg\n",
    "h1_4.jpg          peggys_cove_1.JPG toronto_1.JPG     wuxi.JPG\n",
    "houston_1.jpg     peggys_cove_2.JPG toronto_2.JPG     yosemite_1.jpg\n",
    "hp_1.jpg          plaisance_1.jpg   toronto_3.jpg     yosemite_2.jpg\n",
    "hp_2.jpg          plaisance_2.jpg   upei_1.JPG        yosemite_3.jpg\n",
    "hp_3.jpg          quebec_1.JPG      upei_2.JPG        yosemite_4.jpg\n",
    "huangshan_6.JPG   rome_1.jpg        upei_3.JPG        yosemite_5.jpg\n",
    "\"\"\""
   ]
  },
  {
   "cell_type": "code",
   "execution_count": null,
   "metadata": {
    "collapsed": true
   },
   "outputs": [],
   "source": []
  }
 ],
 "metadata": {
  "kernelspec": {
   "display_name": "Python 2",
   "language": "python",
   "name": "python2"
  },
  "language_info": {
   "codemirror_mode": {
    "name": "ipython",
    "version": 2
   },
   "file_extension": ".py",
   "mimetype": "text/x-python",
   "name": "python",
   "nbconvert_exporter": "python",
   "pygments_lexer": "ipython2",
   "version": "2.7.13"
  }
 },
 "nbformat": 4,
 "nbformat_minor": 2
}
